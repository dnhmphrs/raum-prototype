{
 "cells": [
  {
   "cell_type": "code",
   "execution_count": null,
   "id": "284e7a44-87ec-4536-af37-4b445d6c91e6",
   "metadata": {},
   "outputs": [],
   "source": [
    "import numpy as np\n",
    "import matplotlib.pyplot as plt\n",
    "\n",
    "# Set up the figure and axes\n",
    "fig, axes = plt.subplots(1, 4, figsize=(12, 3))\n",
    "\n",
    "# Define positions of highest activity for each place cell\n",
    "active_positions = [(10, 10), (4, 14), (14, 4), (10, 4)]\n",
    "\n",
    "# Create heatmaps for each place cell\n",
    "for i, pos in enumerate(active_positions):\n",
    "    # Generate a 10x10 grid with Gaussian activity centered at the active position\n",
    "    grid_size = 20\n",
    "    activity_map = np.zeros((grid_size, grid_size))\n",
    "    x, y = np.meshgrid(np.linspace(0, grid_size - 1, grid_size), np.linspace(0, grid_size - 1, grid_size))\n",
    "    activity_map = np.exp(-((x - pos[0]) ** 2 + (y - pos[1]) ** 2) / 4)  # Gaussian with variance\n",
    "\n",
    "    # Plot heatmap\n",
    "    ax = axes[i]\n",
    "    heatmap = ax.imshow(activity_map, cmap='viridis', interpolation='nearest')\n",
    "    ax.set_title(f\"Place Cell {i + 1}\")\n",
    "    ax.axis('off')\n",
    "\n",
    "# Add color bar\n",
    "# fig.colorbar(heatmap, ax=axes, orientation='vertical', fraction=0.02, pad=0.05)\n",
    "plt.tight_layout()\n",
    "plt.savefig(f\"place_cell_{i+1}.png\", bbox_inches='tight')\n",
    "plt.show()\n"
   ]
  },
  {
   "cell_type": "code",
   "execution_count": null,
   "id": "38825abf-3ea5-4479-8fe5-927ae382788d",
   "metadata": {},
   "outputs": [],
   "source": []
  }
 ],
 "metadata": {
  "kernelspec": {
   "display_name": "Python 3 (ipykernel)",
   "language": "python",
   "name": "python3"
  },
  "language_info": {
   "codemirror_mode": {
    "name": "ipython",
    "version": 3
   },
   "file_extension": ".py",
   "mimetype": "text/x-python",
   "name": "python",
   "nbconvert_exporter": "python",
   "pygments_lexer": "ipython3",
   "version": "3.11.4"
  }
 },
 "nbformat": 4,
 "nbformat_minor": 5
}
